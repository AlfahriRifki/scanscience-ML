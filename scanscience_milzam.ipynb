{
  "cells": [
    {
      "cell_type": "markdown",
      "metadata": {
        "id": "2itO3Lo4c_ai"
      },
      "source": [
        "# **SCANSCIENCE**\n",
        "> This is my bangkit capstone project ML model, still need improvement"
      ]
    },
    {
      "cell_type": "markdown",
      "metadata": {
        "id": "_PiCRb5QrfCr"
      },
      "source": [
        "# **1. Preparation Phase**"
      ]
    },
    {
      "cell_type": "code",
      "execution_count": null,
      "metadata": {
        "colab": {
          "base_uri": "https://localhost:8080/"
        },
        "id": "HR-7QVv4rGmt",
        "outputId": "623b60d7-8c61-4926-e2ae-4b90e268cbaa"
      },
      "outputs": [
        {
          "output_type": "stream",
          "name": "stdout",
          "text": [
            "Drive already mounted at /content/drive; to attempt to forcibly remount, call drive.mount(\"/content/drive\", force_remount=True).\n"
          ]
        }
      ],
      "source": [
        "# set- up connection between drive and google collab\n",
        "from google.colab import drive\n",
        "drive.mount('/content/drive')"
      ]
    },
    {
      "cell_type": "code",
      "execution_count": null,
      "metadata": {
        "id": "zfyJ2xY2raKF"
      },
      "outputs": [],
      "source": [
        "import matplotlib.pyplot as plt\n",
        "import tensorflow as tf\n",
        "from tensorflow.keras import applications\n",
        "from tensorflow.keras.preprocessing.image import ImageDataGenerator\n",
        "from tensorflow.keras import layers, Sequential\n",
        "from tensorflow.keras.models import Model\n",
        "from tensorflow.keras.optimizers import Adam"
      ]
    },
    {
      "cell_type": "markdown",
      "metadata": {
        "id": "fw3NZjByr3Sx"
      },
      "source": [
        "### 1.1. Set data directiory path in google drive"
      ]
    },
    {
      "cell_type": "code",
      "execution_count": null,
      "metadata": {
        "id": "JQjWHqd4sR-B"
      },
      "outputs": [],
      "source": [
        "# set path for the train-val data form the google drive\n",
        "train_dir = '/content/drive/MyDrive/ScanScienceDataset/training'\n",
        "validation_dir = '/content/drive/MyDrive/ScanScienceDataset/validation'"
      ]
    },
    {
      "cell_type": "markdown",
      "metadata": {
        "id": "EARqRVzRsc5j"
      },
      "source": [
        "# **2. Data Augmentation**"
      ]
    },
    {
      "cell_type": "markdown",
      "metadata": {
        "id": "yBuAeTx4wJkD"
      },
      "source": [
        "**NOTE:**\n",
        "\n",
        "1.   data size        : 256x256 px,\n",
        "2.   color            : RGB\n",
        "3.   Dataset classes  : 32 animals (24 used)\n",
        "\n",
        "\n",
        "\n",
        "\n",
        "\n",
        "\n",
        "\n"
      ]
    },
    {
      "cell_type": "code",
      "execution_count": null,
      "metadata": {
        "id": "YF4K3FsXZr4Z"
      },
      "outputs": [],
      "source": [
        "# define data size and channel\n",
        "img_rows, img_cols, img_channel = 256, 256, 3"
      ]
    },
    {
      "cell_type": "code",
      "execution_count": null,
      "metadata": {
        "colab": {
          "base_uri": "https://localhost:8080/"
        },
        "id": "-GFN3LIQso2K",
        "outputId": "c701ee28-4bc5-4c99-8660-52eeed60cc3e"
      },
      "outputs": [
        {
          "output_type": "stream",
          "name": "stdout",
          "text": [
            "Found 7050 images belonging to 24 classes.\n"
          ]
        }
      ],
      "source": [
        "# Train Data Augmentation\n",
        "train_datagen = ImageDataGenerator(rescale=1./255.,\n",
        "                                   shear_range=0.2,\n",
        "                                   zoom_range=0.2,\n",
        "                                   horizontal_flip=True)\n",
        "\n",
        "train_generator = train_datagen.flow_from_directory(train_dir,\n",
        "                                                    class_mode='categorical',\n",
        "                                                    batch_size=64,\n",
        "                                                    target_size=(img_rows, img_cols))"
      ]
    },
    {
      "cell_type": "code",
      "execution_count": null,
      "metadata": {
        "colab": {
          "base_uri": "https://localhost:8080/"
        },
        "id": "ja5dUOJewGfS",
        "outputId": "2dc76823-5dd2-490d-d3e2-7ce89499cd70"
      },
      "outputs": [
        {
          "output_type": "stream",
          "name": "stdout",
          "text": [
            "Found 757 images belonging to 24 classes.\n"
          ]
        }
      ],
      "source": [
        "# Validation Data Augmentation\n",
        "val_datagen = ImageDataGenerator(rescale=1./255.)\n",
        "\n",
        "validation_generator = val_datagen.flow_from_directory(validation_dir,\n",
        "                                                       class_mode='categorical',\n",
        "                                                       batch_size=32,\n",
        "                                                       target_size=(img_rows, img_cols))"
      ]
    },
    {
      "cell_type": "markdown",
      "metadata": {
        "id": "RrdzodHSuWVQ"
      },
      "source": [
        "# **3. Create Model**"
      ]
    },
    {
      "cell_type": "markdown",
      "metadata": {
        "id": "4nP62ZtiyoNR"
      },
      "source": [
        "### **3.1. Machine Learning Model**"
      ]
    },
    {
      "cell_type": "code",
      "execution_count": null,
      "metadata": {
        "colab": {
          "base_uri": "https://localhost:8080/"
        },
        "id": "XVbpEYXoya0_",
        "outputId": "90dffd03-febd-430f-874f-de652723fbe6"
      },
      "outputs": [
        {
          "output_type": "stream",
          "name": "stdout",
          "text": [
            "Downloading data from https://storage.googleapis.com/tensorflow/keras-applications/vgg16/vgg16_weights_tf_dim_ordering_tf_kernels_notop.h5\n",
            "58889256/58889256 [==============================] - 0s 0us/step\n"
          ]
        }
      ],
      "source": [
        "from tensorflow.keras.applications import VGG16\n",
        "\n",
        "# Load pre-trained VGG16 model (excluding the top classification layer)\n",
        "base_model = VGG16(weights='imagenet', include_top=False, input_shape=(img_rows, img_cols, img_channel))\n",
        "\n",
        "# Freeze the layers of the pre-trained VGG16 model\n",
        "base_model.trainable = False\n",
        "\n",
        "# Create a new model by adding your classification layers on top of VGG16\n",
        "model = Sequential([\n",
        "    base_model,\n",
        "    layers.Flatten(),\n",
        "    layers.Dense(4096, activation='relu'),\n",
        "    layers.Dense(4096, activation='relu'),\n",
        "    layers.Dense(24, activation='softmax')\n",
        "])"
      ]
    },
    {
      "cell_type": "markdown",
      "metadata": {
        "id": "3UdpBOe7y0Zh"
      },
      "source": [
        "### **3.2. Callback Function**"
      ]
    },
    {
      "cell_type": "code",
      "execution_count": null,
      "metadata": {
        "id": "v0b87wdJu8tr"
      },
      "outputs": [],
      "source": [
        "# Custom Callback\n",
        "class myCallback(tf.keras.callbacks.Callback):\n",
        "        def on_epoch_end(self, epoch, logs={}):\n",
        "            if(logs.get('accuracy') > 0.85 and logs.get('val_accuracy') > 0.85):\n",
        "                print(\"\\n Accuracy is more than 85%, stopping...\")\n",
        "                self.model.stop_training = True\n",
        "\n",
        "mycallback = myCallback()"
      ]
    },
    {
      "cell_type": "code",
      "execution_count": null,
      "metadata": {
        "id": "yinN755O-XWd"
      },
      "outputs": [],
      "source": [
        "# learning rate scheduler\n",
        "from tensorflow.keras.callbacks import LearningRateScheduler\n",
        "\n",
        "def schedule(epoch, lr):\n",
        "    if epoch < 10:\n",
        "        return 0.001\n",
        "    elif epoch < 20:\n",
        "        return 0.0001\n",
        "    else:\n",
        "        return 0.00001\n",
        "\n",
        "lr_scheduler = LearningRateScheduler(schedule)"
      ]
    },
    {
      "cell_type": "code",
      "source": [
        "# Early Stopping callbacks\n",
        "from tensorflow.keras.callbacks import EarlyStopping\n",
        "\n",
        "early_stopping = EarlyStopping(monitor='val_loss',\n",
        "                               patience=10,\n",
        "                               restore_best_weights=True)"
      ],
      "metadata": {
        "id": "bQeQnBxYDV3_"
      },
      "execution_count": null,
      "outputs": []
    },
    {
      "cell_type": "markdown",
      "metadata": {
        "id": "8ZoLZCDqyS1B"
      },
      "source": [
        "# **4. Training Model**"
      ]
    },
    {
      "cell_type": "code",
      "source": [
        "#model = build_model(pre_trained_model,num_classes=27)"
      ],
      "metadata": {
        "id": "AOSveyjgf14W"
      },
      "execution_count": null,
      "outputs": []
    },
    {
      "cell_type": "code",
      "execution_count": null,
      "metadata": {
        "colab": {
          "base_uri": "https://localhost:8080/"
        },
        "id": "ucHEs06ZFGeT",
        "outputId": "f870731f-4136-4cb7-b9ea-11d6da0b4383"
      },
      "outputs": [
        {
          "output_type": "stream",
          "name": "stdout",
          "text": [
            "Model: \"sequential_2\"\n",
            "_________________________________________________________________\n",
            " Layer (type)                Output Shape              Param #   \n",
            "=================================================================\n",
            " vgg16 (Functional)          (None, 8, 8, 512)         14714688  \n",
            "                                                                 \n",
            " flatten (Flatten)           (None, 32768)             0         \n",
            "                                                                 \n",
            " dense_4 (Dense)             (None, 4096)              134221824 \n",
            "                                                                 \n",
            " dense_5 (Dense)             (None, 4096)              16781312  \n",
            "                                                                 \n",
            " dense_6 (Dense)             (None, 24)                98328     \n",
            "                                                                 \n",
            "=================================================================\n",
            "Total params: 165816152 (632.54 MB)\n",
            "Trainable params: 151101464 (576.41 MB)\n",
            "Non-trainable params: 14714688 (56.13 MB)\n",
            "_________________________________________________________________\n"
          ]
        }
      ],
      "source": [
        "model.summary()"
      ]
    },
    {
      "cell_type": "code",
      "execution_count": null,
      "metadata": {
        "id": "BxNelMl2yLEq"
      },
      "outputs": [],
      "source": [
        "model.compile(loss = tf.keras.losses.CategoricalCrossentropy(),\n",
        "              optimizer = tf.keras.optimizers.Adam(),\n",
        "              metrics = ['accuracy'])"
      ]
    },
    {
      "cell_type": "code",
      "execution_count": null,
      "metadata": {
        "colab": {
          "base_uri": "https://localhost:8080/"
        },
        "id": "9FkmwjhzSOgc",
        "outputId": "62116df9-c27a-4b53-9753-12849c6aec36"
      },
      "outputs": [
        {
          "output_type": "stream",
          "name": "stdout",
          "text": [
            "Epoch 1/50\n",
            "111/111 [==============================] - 169s 1s/step - loss: 3.6358 - accuracy: 0.3804 - val_loss: 1.1960 - val_accuracy: 0.6063 - lr: 0.0010\n",
            "Epoch 2/50\n",
            "111/111 [==============================] - 136s 1s/step - loss: 0.9256 - accuracy: 0.7072 - val_loss: 0.8465 - val_accuracy: 0.7437 - lr: 0.0010\n",
            "Epoch 3/50\n",
            "111/111 [==============================] - 137s 1s/step - loss: 0.6855 - accuracy: 0.7793 - val_loss: 0.8135 - val_accuracy: 0.7622 - lr: 0.0010\n",
            "Epoch 4/50\n",
            "111/111 [==============================] - 139s 1s/step - loss: 0.5151 - accuracy: 0.8325 - val_loss: 0.7827 - val_accuracy: 0.7569 - lr: 0.0010\n",
            "Epoch 5/50\n",
            "111/111 [==============================] - 139s 1s/step - loss: 0.4545 - accuracy: 0.8522 - val_loss: 0.7574 - val_accuracy: 0.7966 - lr: 0.0010\n",
            "Epoch 6/50\n",
            "111/111 [==============================] - 136s 1s/step - loss: 0.4033 - accuracy: 0.8657 - val_loss: 0.8025 - val_accuracy: 0.7715 - lr: 0.0010\n",
            "Epoch 7/50\n",
            "111/111 [==============================] - 136s 1s/step - loss: 0.3486 - accuracy: 0.8878 - val_loss: 0.8811 - val_accuracy: 0.7662 - lr: 0.0010\n",
            "Epoch 8/50\n",
            "111/111 [==============================] - 139s 1s/step - loss: 0.2798 - accuracy: 0.9113 - val_loss: 0.8215 - val_accuracy: 0.7807 - lr: 0.0010\n",
            "Epoch 9/50\n",
            "111/111 [==============================] - 135s 1s/step - loss: 0.2373 - accuracy: 0.9200 - val_loss: 0.9624 - val_accuracy: 0.7688 - lr: 0.0010\n",
            "Epoch 10/50\n",
            "111/111 [==============================] - 138s 1s/step - loss: 0.2154 - accuracy: 0.9248 - val_loss: 0.8268 - val_accuracy: 0.7939 - lr: 0.0010\n",
            "Epoch 11/50\n",
            "111/111 [==============================] - 135s 1s/step - loss: 0.0977 - accuracy: 0.9681 - val_loss: 0.6600 - val_accuracy: 0.8283 - lr: 1.0000e-04\n",
            "Epoch 12/50\n",
            "111/111 [==============================] - 138s 1s/step - loss: 0.0727 - accuracy: 0.9763 - val_loss: 0.6532 - val_accuracy: 0.8269 - lr: 1.0000e-04\n",
            "Epoch 13/50\n",
            "111/111 [==============================] - 142s 1s/step - loss: 0.0577 - accuracy: 0.9817 - val_loss: 0.6679 - val_accuracy: 0.8322 - lr: 1.0000e-04\n",
            "Epoch 14/50\n",
            "111/111 [==============================] - 138s 1s/step - loss: 0.0550 - accuracy: 0.9830 - val_loss: 0.6965 - val_accuracy: 0.8177 - lr: 1.0000e-04\n",
            "Epoch 15/50\n",
            "111/111 [==============================] - 142s 1s/step - loss: 0.0550 - accuracy: 0.9818 - val_loss: 0.6985 - val_accuracy: 0.8336 - lr: 1.0000e-04\n",
            "Epoch 16/50\n",
            "111/111 [==============================] - 140s 1s/step - loss: 0.0456 - accuracy: 0.9867 - val_loss: 0.7018 - val_accuracy: 0.8283 - lr: 1.0000e-04\n",
            "Epoch 17/50\n",
            "111/111 [==============================] - 140s 1s/step - loss: 0.0426 - accuracy: 0.9875 - val_loss: 0.7186 - val_accuracy: 0.8309 - lr: 1.0000e-04\n",
            "Epoch 18/50\n",
            "111/111 [==============================] - 141s 1s/step - loss: 0.0404 - accuracy: 0.9872 - val_loss: 0.7266 - val_accuracy: 0.8203 - lr: 1.0000e-04\n",
            "Epoch 19/50\n",
            "111/111 [==============================] - 143s 1s/step - loss: 0.0453 - accuracy: 0.9861 - val_loss: 0.7312 - val_accuracy: 0.8164 - lr: 1.0000e-04\n",
            "Epoch 20/50\n",
            "111/111 [==============================] - 141s 1s/step - loss: 0.0357 - accuracy: 0.9894 - val_loss: 0.7284 - val_accuracy: 0.8309 - lr: 1.0000e-04\n",
            "Epoch 21/50\n",
            "111/111 [==============================] - 139s 1s/step - loss: 0.0275 - accuracy: 0.9936 - val_loss: 0.7235 - val_accuracy: 0.8296 - lr: 1.0000e-05\n",
            "Epoch 22/50\n",
            "111/111 [==============================] - 144s 1s/step - loss: 0.0250 - accuracy: 0.9948 - val_loss: 0.7226 - val_accuracy: 0.8283 - lr: 1.0000e-05\n"
          ]
        }
      ],
      "source": [
        "\n",
        "epochs = 50  # @param {type: \"slider\", min:10, max:100}\n",
        "hist = model.fit(train_generator,\n",
        "                 epochs=epochs,\n",
        "                 verbose = 1,\n",
        "                 validation_data=validation_generator,\n",
        "                 callbacks = [lr_scheduler, early_stopping, mycallback])"
      ]
    },
    {
      "cell_type": "markdown",
      "metadata": {
        "id": "HsFf239GVfEl"
      },
      "source": [
        "# **5. Model Evaluation**\n",
        "\n",
        "\n",
        "\n",
        ">In this section, we try to plot the performance of the ML model based on the epoch. We use accuracy and loss from both training and validation score from the model.\n",
        "\n",
        "\n",
        "\n",
        "\n"
      ]
    },
    {
      "cell_type": "code",
      "execution_count": null,
      "metadata": {
        "colab": {
          "base_uri": "https://localhost:8080/",
          "height": 470
        },
        "id": "Y5wvuWmtcDdR",
        "outputId": "b1fdcb53-412e-4a1d-8a1c-2257edaffc9e"
      },
      "outputs": [
        {
          "output_type": "display_data",
          "data": {
            "text/plain": [
              "<Figure size 640x480 with 1 Axes>"
            ],
            "image/png": "[encoded data removed]"
          },
          "metadata": {}
        },
        {
          "output_type": "display_data",
          "data": {
            "text/plain": [
              "<Figure size 640x480 with 0 Axes>"
            ]
          },
          "metadata": {}
        }
      ],
      "source": [
        "acc = hist.history['accuracy']\n",
        "val_acc = hist.history['val_accuracy']\n",
        "loss = hist.history['loss']\n",
        "val_loss = hist.history['val_loss']\n",
        "\n",
        "epochs = range(len(acc))\n",
        "\n",
        "plt.plot(epochs, acc, 'r', label='Training accuracy')\n",
        "plt.plot(epochs, val_acc, 'b', label='Validation accuracy')\n",
        "plt.title('Training and validation accuracy')\n",
        "plt.legend(loc=0)\n",
        "plt.figure()\n",
        "\n",
        "\n",
        "plt.show()"
      ]
    },
    {
      "cell_type": "code",
      "execution_count": null,
      "metadata": {
        "id": "_yUEs1mTglRd"
      },
      "outputs": [],
      "source": [
        "def saveModel(versi, model):\n",
        "    filepath = \"drive/MyDrive/ScanScienceDataset/dataset/model_ml_\" + versi + \".h5\"\n",
        "    model.save(filepath)\n",
        "\n",
        "saveModel('1',model)"
      ]
    }
  ],
  "metadata": {
    "accelerator": "GPU",
    "colab": {
      "provenance": [],
      "gpuType": "T4"
    },
    "kernelspec": {
      "display_name": "Python 3",
      "name": "python3"
    },
    "language_info": {
      "name": "python"
    }
  },
  "nbformat": 4,
  "nbformat_minor": 0
}